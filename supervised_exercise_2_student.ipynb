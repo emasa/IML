{
 "cells": [
  {
   "cell_type": "markdown",
   "metadata": {},
   "source": [
    "# Exercise 2: Our first classifier.\n",
    "\n",
    "\n",
    "## I. GOAL OF THE EXERCISE\n",
    "\n",
    "In this exercise you will practice the basic pipeline of the supervised learning task. Implement a simple classifier. And will try to solve several hinderances found in the process.\n",
    "\n",
    "## II. DELIVERABLES\n",
    "As you progress in this exercise, you will find several questions you are expected to answer them properly with adequate figures when required and deliver the notebook with the working code used for generating and discussing the results in due time.\n"
   ]
  },
  {
   "cell_type": "markdown",
   "metadata": {},
   "source": [
    "<div class = \"alert alert-danger\" style=\"border-radius:10px\"> **IMPORTANT:** Write in the next cell the name of the people that answer this notebook\n",
    "</div>"
   ]
  },
  {
   "cell_type": "markdown",
   "metadata": {},
   "source": [
    "## Felix Altenberger, Pablo Reynoso, Emanuel Sanchez"
   ]
  },
  {
   "cell_type": "markdown",
   "metadata": {},
   "source": [
    "## III. OUR FIST CLASSIFIER.\n",
    "We are given the data in diabetes.mat and our goal is to predict the whether a person suffers from diabetes or not given her medical record. Our first model to try is linear regression as explained in ”A gentle introduction to supervised learning”.\n",
    "\n",
    "### A. Understanding and preprocessing our problem.\n",
    "The first step in the learning pipeline is to have a general picture of your dataset particularities.\n",
    "\n",
    "### B. Data set analysis\n",
    "Load the dataset and describe the basic properties of the data,"
   ]
  },
  {
   "cell_type": "markdown",
   "metadata": {},
   "source": [
    "<div class = \"alert alert-success\" style = \"border-radius:10px\">**QUESTION BLOCK 1:**\n",
    "<ol>\n",
    "<li> Which is the cardinality (number of examples) of the training set?</li> \n",
    "<li> Which is the dimensionality of the training set? </li>\n",
    "<li> Which is the mean value of the training set? </li>\n",
    "</ol>\n",
    "<div>"
   ]
  },
  {
   "cell_type": "code",
   "execution_count": 48,
   "metadata": {
    "collapsed": false
   },
   "outputs": [],
   "source": [
    "import scipy.io as sio\n",
    "data = sio.loadmat('diabetes.mat')\n",
    "\n",
    "X = data['x'].T\n",
    "y = data['y']\n",
    "#1.\n",
    "#print X.shape[0]\n",
    "#2.\n",
    "#print X.shape[1]\n",
    "#3.\n",
    "#print sum(X)/len(X)"
   ]
  },
  {
   "cell_type": "markdown",
   "metadata": {
    "collapsed": false
   },
   "source": [
    "1. The cardinality is 768.\n",
    "2. The dimensionality is 8.\n",
    "3. The mean values are [nan, nan, nan, nan, nan, nan, 0.4718763, 33.24088542]\n"
   ]
  },
  {
   "cell_type": "markdown",
   "metadata": {},
   "source": [
    "As you can see there are some missing values with value NaN and som\n",
    "e categorical data."
   ]
  },
  {
   "cell_type": "markdown",
   "metadata": {},
   "source": [
    "<div class = \"alert alert-success\" style = \"border-radius:10px\">**QUESTION BLOCK 2:**\n",
    "<ol>\n",
    "<li> Create a new dataset D1, replacing the NaN values with the mean value of the corresponding attribute without considering the missing values. </li>\n",
    "<li> Create a new dataset D2, replacing the NaN values with the mean value of the corresponding attribute without considering the missing values conditioned to the class they belong, i.e. replace the missing attribute values of class +1 with the mean of that attribute of the examples of class +1, and the same for the other class. </li>\n",
    "<li> **[Optional :]** Explain another method to deal with missing values and apply it to preprocess the training data. Include the reference of the method used. Consider this new dataset as D3. </li>\n",
    "<li> Which are the new mean values of each dataset?</li>\n",
    "</ol>\n",
    "</div>"
   ]
  },
  {
   "cell_type": "code",
   "execution_count": 50,
   "metadata": {
    "collapsed": false
   },
   "outputs": [],
   "source": [
    "import math\n",
    "import copy\n",
    "%matplotlib inline\n",
    "import matplotlib.pyplot as plt\n",
    "\n",
    "#1. + 2.\n",
    "#declare vars\n",
    "means, ncount, means_classed, ncount_classed = [0]*8, [0]*8, [0]*8, [0]*8\n",
    "for i in range(8):\n",
    "    means_classed[i], ncount_classed[i] = [0,0],[0,0]\n",
    "    \n",
    "#calculate means\n",
    "for i in range(len(X)):\n",
    "    for j in range(len(X[0])):\n",
    "        if not math.isnan(X[i][j]):\n",
    "            means[j]+=X[i][j]\n",
    "            ncount[j]+=1\n",
    "            if y[i]==-1:\n",
    "                means_classed[j][0]+=X[i][j]\n",
    "                ncount_classed[j][0]+=1\n",
    "            elif y[i]==1:\n",
    "                means_classed[j][1]+=X[i][j]\n",
    "                ncount_classed[j][1]+=1\n",
    "for i in range(8):\n",
    "    means[i] = means[i]/ncount[i]\n",
    "    for j in range(2):\n",
    "         means_classed[i][j] = means_classed[i][j]/ncount_classed[i][j]\n",
    "  \n",
    "#create d1, d2\n",
    "d1,d2 = copy.deepcopy(X),copy.deepcopy(X)\n",
    "for i in range(len(X)):\n",
    "    for j in range(len(X[0])):\n",
    "        if math.isnan(X[i][j]):\n",
    "            d1[i][j] = means[j]\n",
    "            if y[i]==-1:\n",
    "                d2[i][j] = means_classed[j][0]\n",
    "            elif y[i]==1:\n",
    "                d2[i][j] = means_classed[j][1]\n",
    "#4.\n",
    "#print sum(d1)/len(d1)\n",
    "#print sum(d2)/len(d2)\n",
    "\n",
    "#just some code used for visualization. This is not needed for the assignment though\n",
    "#x0 = [row[0] for row in X]\n",
    "#plt.scatter(x0,y)"
   ]
  },
  {
   "cell_type": "markdown",
   "metadata": {},
   "source": [
    "The mean values of d1 are:\n",
    "[4.49467275, 121.68676278, 72.40518417, 29.15341959, 155.54822335, 32.45746367, 0.4718763, 33.24088542]\n",
    "and the mean values of d2 are:\n",
    "[4.49265212, 121.69735767, 72.42814101, 29.24704236, 157.00352686, 32.44642005, 0.4718763, 33.24088542]"
   ]
  },
  {
   "cell_type": "markdown",
   "metadata": {},
   "source": [
    "### C. A simple classifier\n",
    "\n",
    "Our first classifier is a thresholded regressor. Use and/or modify any of the methods you implemented for regression and apply it to find a linear classifier."
   ]
  },
  {
   "cell_type": "markdown",
   "metadata": {},
   "source": [
    "<div class = \"alert alert-success\" style = \"border-radius:10px\">**QUESTION BLOCK 3:**\n",
    "<ol>\n",
    "<li>In this model you have to learn the threshold value. Explain how you can accommodate this parameter.</li>\n",
    "<li>Report the normal vector of the separating hyperplane for each data set D1, D2, D3.</li>\n",
    "<li>Compute the error rates achieved on the training data. Are there significant differences? Report the method used and their parameters.</li>\n",
    "</ol>\n",
    "<div>"
   ]
  },
  {
   "cell_type": "code",
   "execution_count": 52,
   "metadata": {
    "collapsed": false
   },
   "outputs": [],
   "source": [
    "# your code\n",
    "import numpy as np\n",
    "\n",
    "def ana_sol(x,y):\n",
    "    x_pinv = np.linalg.pinv(x)\n",
    "    w = np.dot(x_pinv, y)\n",
    "    return w\n",
    "\n",
    "def classify(w,x):\n",
    "    x_til = [1]*(len(x)+1)\n",
    "    x_til[1:] = x\n",
    "    return np.sign(np.dot(np.transpose(x_til),w))\n",
    "\n",
    "mat1 = np.array([[1]]*len(d1))\n",
    "x_til1, x_til2 = np.concatenate((mat1, d1), axis=1), np.concatenate((mat1, d2), axis=1)\n",
    "w1, w2 = ana_sol(x_til1,y), ana_sol(x_til2, y)\n",
    "#1.\n",
    "trs1, trs2 = -w1[0][0],-w2[0][0]\n",
    "#2.\n",
    "n1, n2 = w1[1:], w2[1:]\n",
    "#print n1,n2\n",
    "#3.\n",
    "j1, j2 = 0,0\n",
    "for i in range(len(y)):\n",
    "    if y[i] != classify(w1,d1[i]):\n",
    "        j1+=1\n",
    "    if y[i] != classify(w1,d2[i]):\n",
    "        j2+=1\n",
    "err1 = j1*1.0/len(y)\n",
    "err2 = j2*1.0/len(y)\n",
    "#print err1, err2\n"
   ]
  },
  {
   "cell_type": "markdown",
   "metadata": {},
   "source": [
    "1. The threshold is learned by performing linear regression (using the analytical solution). -w[0] of the resulting vector w is the threshold that we are looking for.\n",
    "2. The normal vector of D1 is: [0.0454830899, 0.0128752133, -0.00276153057, 0.000309178172, -0.000175410884, 0.0273791130, 0.250953772, 0.00498452234] and the one of D2 is:\n",
    "[0.0556913, 0.00988663, -0.00151083, 0.01041739, 0.00186537, 0.0160551, 0.22947897, 0.00183327]\n",
    "3. The error rate on D1 is 0.22135 and the one on D2 is 0.21875. As expected, the error rate on D2 is lower, but surprisingly only by 0.00260, which is a very small amount.\n"
   ]
  },
  {
   "cell_type": "markdown",
   "metadata": {},
   "source": [
    "Training error is a poor estimation of the generalization error. Let us test what happens in a test set created by holding-out a certain percentage of the original dataset."
   ]
  },
  {
   "cell_type": "markdown",
   "metadata": {},
   "source": [
    "<div class = \"alert alert-success\" style = \"border-radius:10px\">**QUESTION BLOCK 4:**\n",
    "\n",
    "Repeat the learning process in block 3 using just D2 but holding-out the last fifth of the data set for testing purposes, i.e. use the first 4/5-th for training and the last 1/5-th for testing. Follow exactly the following steps in your process:\n",
    "<ol>\n",
    "<li> Clear your workspace: `%reset -f` at the begining of the cell. </li>\n",
    "<li> Preprocess the data replacing the NaN using the method for creating D2.</li>\n",
    "<li> Split your data in two sets: the first 4/5-th is to be used for training and\n",
    "the last 1/5-th will be used for testing purposes. Use a random seed value equal to 42.</li>\n",
    "<li> Train your model on the training set.</li>\n",
    "<li> Answer the following questions: Which is the error rate on your training\n",
    "data? Which is the error rate on your test data? Are they similar? Did you expect that behavior? Why?</li>\n",
    "</ol>\n",
    "</div>"
   ]
  },
  {
   "cell_type": "code",
   "execution_count": 53,
   "metadata": {
    "collapsed": false
   },
   "outputs": [],
   "source": [
    "#1.\n",
    "%reset -f\n",
    "\n",
    "#2. \n",
    "import scipy.io as sio\n",
    "import math\n",
    "import copy\n",
    "import numpy as np\n",
    "import random as rd\n",
    "\n",
    "data = sio.loadmat('diabetes.mat')\n",
    "X = data['x'].T\n",
    "y = data['y']\n",
    "n = len(X)\n",
    "\n",
    "#declare vars\n",
    "means_classed, ncount_classed = [0]*8, [0]*8\n",
    "for i in range(8):\n",
    "    means_classed[i], ncount_classed[i] = [0,0],[0,0]\n",
    "    \n",
    "#calculate means\n",
    "for i in range(n):\n",
    "    for j in range(len(X[0])):\n",
    "        if not math.isnan(X[i][j]):\n",
    "            if y[i]==-1:\n",
    "                means_classed[j][0]+=X[i][j]\n",
    "                ncount_classed[j][0]+=1\n",
    "            elif y[i]==1:\n",
    "                means_classed[j][1]+=X[i][j]\n",
    "                ncount_classed[j][1]+=1\n",
    "for i in range(8):\n",
    "    for j in range(2):\n",
    "         means_classed[i][j] = means_classed[i][j]/ncount_classed[i][j]\n",
    "            \n",
    "#update values\n",
    "for i in range(n):\n",
    "    for j in range(len(X[0])):\n",
    "        if math.isnan(X[i][j]):\n",
    "            if y[i]==-1:\n",
    "                X[i][j] = means_classed[j][0]\n",
    "            elif y[i]==1:\n",
    "                X[i][j] = means_classed[j][1]\n",
    "\n",
    "#3. - randomly split data into test and training set\n",
    "split = int(round(n*0.8))\n",
    "X_train, X_test, y_train, y_test = [0]*split, [0]*(n-split), [0]*split, [0]*(n-split)\n",
    "rd.seed(42)\n",
    "split_count = 0\n",
    "used = [False]*n\n",
    "while split_count < split:\n",
    "    rand_val = rd.randint(0,n-1)\n",
    "    if not used[rand_val]:\n",
    "        used[rand_val] = True\n",
    "        X_train[split_count], y_train[split_count] = X[rand_val], y[rand_val]\n",
    "        split_count+=1\n",
    "split_count = 0\n",
    "for i in range(n):\n",
    "    if not used[i]:\n",
    "        X_test[split_count], y_test[split_count] = X[i], y[i]\n",
    "        split_count += 1\n",
    "        \n",
    "#4.\n",
    "def ana_sol(x,y):\n",
    "    x_pinv = np.linalg.pinv(x)\n",
    "    w = np.dot(x_pinv, y)\n",
    "    return w\n",
    "\n",
    "def classify(w,x):\n",
    "    x_til = [1]*(len(x)+1)\n",
    "    x_til[1:] = x\n",
    "    return np.sign(np.dot(np.transpose(x_til),w))\n",
    "\n",
    "mat1 = np.array([[1]]*len(X_train))\n",
    "X_til= np.concatenate((mat1, X_train), axis=1)\n",
    "w = ana_sol(X_til,y_train)\n",
    "\n",
    "#5.\n",
    "j_train, j_test = 0,0\n",
    "for i in range(len(y_train)):\n",
    "    if y_train[i] != classify(w,X_train[i]):\n",
    "        j_train+=1\n",
    "for i in range(len(y_test)):\n",
    "    if y_test[i] != classify(w,X_test[i]):\n",
    "        j_test+=1\n",
    "err_train, err_test = j_train*1.0/len(y_train), j_test*1.0/len(y_test)\n",
    "#print err_train, err_test"
   ]
  },
  {
   "cell_type": "markdown",
   "metadata": {},
   "source": [
    "The error on the training set is 0.197068403909 and the one on the test set is 0.188311688312. The errors are very similar (the difference is only 0.00875671559711 (= ~4,7% decrease)). It is not surprising that the error rates are close together, since the complexity of the classifier is very low. According to Hoeffding's inequality, the out-of-sample-error should therefore be close to the in-sample-error, which is exactly what we observe. However we would have expected that the test error is higher than the training error, which is not the case. The reason for this should again be that the complexity of the classifier is very low, for which reason it is underfitting the training set."
   ]
  },
  {
   "cell_type": "markdown",
   "metadata": {},
   "source": [
    "<div class = \"alert alert-success\" style = \"border-radius:10px\"> **QUESTION BLOCK 5:**\n",
    "Repeat the process in block 4 changing the order of some of the steps. Follow exactly the following steps in your process:\n",
    "<ol>\n",
    "<li> Clear your workspace with `%reset -f`.</li>\n",
    "<li> Split your data in two sets: the first 4/5-th is to be used for training and the last 1/5-th will be used for testing purposes. Use random state or random seed value of 42. </li>\n",
    "<li> Preprocess the data replacing the NaN using the method for creating D2. But this time use only the data corresponding to the training set. </li>\n",
    "<li> Train your model on the training set.</li>\n",
    "<li> Replace the NaN values using the means computed on the training data. </li>\n",
    "<li> Answer the following questions: Which is the error rate on your training data? Which is the error rate on your test data? Are they similar? Did you expect that behavior? Why? </li>\n",
    "<li> Compare these results with the ones in block 4. Do we achieve better or worse results? Why?</li>\n",
    "<div>"
   ]
  },
  {
   "cell_type": "code",
   "execution_count": 54,
   "metadata": {
    "collapsed": false
   },
   "outputs": [],
   "source": [
    "#1.\n",
    "%reset -f\n",
    "\n",
    "#2.-7.\n",
    "import scipy.io as sio\n",
    "import math\n",
    "import copy\n",
    "import numpy as np\n",
    "import random as rd\n",
    "\n",
    "data = sio.loadmat('diabetes.mat')\n",
    "X = data['x'].T\n",
    "y = data['y']\n",
    "n = len(X)\n",
    "\n",
    "def ana_sol(x,y):\n",
    "    x_pinv = np.linalg.pinv(x)\n",
    "    w = np.dot(x_pinv, y)\n",
    "    return w\n",
    "\n",
    "def classify(w,x):\n",
    "    x_til = [1]*(n+1)\n",
    "    x_til[1:] = x\n",
    "    return np.sign(np.dot(np.transpose(x_til),w))\n",
    "\n",
    "def calc_errs(split_perc):\n",
    "    #2\n",
    "    split = int(round(n*(split_perc/100.0)))\n",
    "    X_train, X_test, y_train, y_test = [0]*split, [0]*(n-split), [0]*split, [0]*(n-split)\n",
    "    rd.seed(42)\n",
    "    split_count = 0\n",
    "    used = [False]*n\n",
    "    while split_count < split:\n",
    "        rand_val = rd.randint(0,n-1)\n",
    "        if not used[rand_val]:\n",
    "            used[rand_val] = True\n",
    "            X_train[split_count], y_train[split_count] = X[rand_val], y[rand_val]\n",
    "            split_count+=1\n",
    "    split_count = 0\n",
    "    for i in range(n):\n",
    "        if not used[i]:\n",
    "            X_test[split_count], y_test[split_count] = X[i], y[i]\n",
    "            split_count += 1\n",
    "\n",
    "    #3. & 5. - we change the order of 4. and 5., because they do not interfer and it is much easier to do 3. and 5. together\n",
    "    #declare vars\n",
    "    means_classed, ncount_classed = [0]*8, [0]*8\n",
    "    for i in range(8):\n",
    "        means_classed[i], ncount_classed[i] = [0,0],[0,0]\n",
    "\n",
    "    #calculate means\n",
    "    for i in range(len(X_train)):\n",
    "        for j in range(len(X_train[0])):\n",
    "            if not math.isnan(X_train[i][j]):\n",
    "                if y[i]==-1:\n",
    "                    means_classed[j][0]+=X_train[i][j]\n",
    "                    ncount_classed[j][0]+=1\n",
    "                elif y[i]==1:\n",
    "                    means_classed[j][1]+=X_train[i][j]\n",
    "                    ncount_classed[j][1]+=1\n",
    "    for i in range(8):\n",
    "        for j in range(2):\n",
    "            if ncount_classed[i][j] != 0:\n",
    "                means_classed[i][j] = means_classed[i][j]/ncount_classed[i][j]\n",
    "\n",
    "    #update values\n",
    "    for i in range(n):\n",
    "        for j in range(len(X[0])):\n",
    "            if math.isnan(X[i][j]):\n",
    "                if y[i]==-1:\n",
    "                    X[i][j] = means_classed[j][0]\n",
    "                elif y[i]==1:\n",
    "                    X[i][j] = means_classed[j][1]\n",
    "\n",
    "    #4.\n",
    "    if len(X_train) > 0:\n",
    "        mat1 = np.array([[1]]*len(X_train))\n",
    "        X_til= np.concatenate((mat1, X_train), axis=1)\n",
    "        w = ana_sol(X_til,y_train)\n",
    "    else:\n",
    "        w = [1]*9\n",
    "\n",
    "    #6.\n",
    "    j_train, j_test = 0,0\n",
    "    for i in range(len(y_train)):\n",
    "        if y_train[i] != classify(w,X_train[i]):\n",
    "            j_train+=1\n",
    "    for i in range(len(y_test)):\n",
    "        if y_test[i] != classify(w,X_test[i]):\n",
    "            j_test+=1\n",
    "    err_train, err_test = 0,0\n",
    "    if len(y_train)>0: \n",
    "        err_train = j_train*1.0/len(y_train)\n",
    "    if len(y_test)>0:\n",
    "        err_test = j_test*1.0/len(y_test)\n",
    "    return err_train, err_test\n",
    "\n",
    "#print calc_errs(80)"
   ]
  },
  {
   "cell_type": "markdown",
   "metadata": {},
   "source": [
    "The error rate on the training set is 0.23289902280130292 and the one on the test set is 0.2012987012987013. They are now a bit further apart and the test error is again lower than the training error, which we did not expect for similar reasons as explained in the previous exercise. In comparison to the previous exercise, the results are alot worse, since all errors (in-sample, out-of-sample, generalization) increased. We expected this behaviour, because we used less data for the prediction of the NaN values, for which reason the quality of the data should be worse."
   ]
  },
  {
   "cell_type": "markdown",
   "metadata": {},
   "source": [
    "<div class = \"alert alert-success\" style = \"border-radius:10px\"> **QUESTION BLOCK 6:**\n",
    "<ol>\n",
    "<li> Repeat the process in block 5 changing the percentage of the data for training and testing. Plot a graph with the training and test error rates for each splitting percentage point. Comment the results.</li>\n",
    "<li> Add to the plot the upper bound on the generalization error using the equation of the slides for VC dimension equal to $d + 1$. Discuss the result.</li>\n",
    "<li> How many samples does the bound predict in order to have 1% error deviation with a confidence of 95%? And with confidence 50%? What about 5% and 10% error deviation with 95% confidence? Comment the behavior according to your observations.</li>\n",
    "</ol>\n",
    "<div>"
   ]
  },
  {
   "cell_type": "code",
   "execution_count": 55,
   "metadata": {
    "collapsed": false
   },
   "outputs": [
    {
     "data": {
      "image/png": "[encoded data removed]",
      "text/plain": [
       "<matplotlib.figure.Figure at 0x7fc8d38bfd10>"
      ]
     },
     "metadata": {},
     "output_type": "display_data"
    }
   ],
   "source": [
    "%matplotlib inline\n",
    "import matplotlib.pyplot as plt\n",
    "import math\n",
    "\n",
    "def vcdim(n, d, delta):\n",
    "    mue = 1-delta\n",
    "    try: \n",
    "        return math.sqrt((d*(math.log(2*n/d)+1)+math.log(2.0/delta))/(2*n))\n",
    "        #return = math.sqrt((1.0/n)*(d*(math.log(2*n/d)+1)-math.log(mue/4.0)))\n",
    "    except (ValueError, ZeroDivisionError):\n",
    "        return 0\n",
    "        #return vcdim(n,d,delta+0.01)\n",
    "\n",
    "err_train, err_test = [0]*101, [0]*101\n",
    "x_plot = range(101)\n",
    "for i in x_plot:\n",
    "    err_train[i], err_test[i] = calc_errs(i)\n",
    "    \n",
    "#1.\n",
    "plt.title('errors: blue=training, red=test, green=training+generalization')\n",
    "plt.xlabel('split percentage')\n",
    "plt.ylabel('error rate')\n",
    "plt.plot(x_plot, err_train, 'b')\n",
    "plt.hold('on')\n",
    "plt.plot(x_plot, err_test, 'r')\n",
    "#2.\n",
    "plt.hold('on')\n",
    "err_gen = [0]*101\n",
    "for i in x_plot:\n",
    "    err_gen[i] = vcdim(i*0.01*n, 9, 0.05)\n",
    "    \n",
    "err_trgen = [0]*101\n",
    "for i in x_plot:\n",
    "    err_trgen[i] = err_train[i] + err_gen[i]\n",
    "plt.plot(x_plot, err_trgen, 'g--')\n",
    "plt.show()\n"
   ]
  },
  {
   "cell_type": "markdown",
   "metadata": {
    "collapsed": true
   },
   "source": [
    "1.  The curves of both error rates have the form that we expected, but it is interesting that the training error is greater than the test error for splits over 20%. This means that the generalization error is becoming very low very quickly. The reason for this should, again, be the low complexity of the classifier.\n",
    "2. As it seems the curve of the generalization upper bound is almost parallel to the curve of the test error, but it is a lot higher overall, for which reason it is not very helpful for predicting the actual error rate.\n",
    "3. According to WolframAlpha, the amount of samples needed would be: 739229 for 1% error deviation with 95% confidence, 726963 for 1% error deviation with 50% confidence, 22711 for 5% error deviation with 95% confidence and 4996 for 10% error deviation with 95% confidence."
   ]
  }
 ],
 "metadata": {
  "kernelspec": {
   "display_name": "Python [Root]",
   "language": "python",
   "name": "Python [Root]"
  },
  "language_info": {
   "codemirror_mode": {
    "name": "ipython",
    "version": 2
   },
   "file_extension": ".py",
   "mimetype": "text/x-python",
   "name": "python",
   "nbconvert_exporter": "python",
   "pygments_lexer": "ipython2",
   "version": "2.7.12"
  }
 },
 "nbformat": 4,
 "nbformat_minor": 0
}
