{
 "cells": [
  {
   "cell_type": "markdown",
   "metadata": {},
   "source": [
    "# Exercise 4 - A practical case\n",
    "## I. Abstract\n",
    "todo\n",
    "## II. Introduction\n",
    "todo\n",
    "## III. Specification of the problem and organization of the software\n",
    "<p>We are the new data analyst in a Telecom company. Our first project is to try to reduce the\n",
    "churn of our new service. Modeling churn means to understand what keeps the customer engaged\n",
    "to our product. As an analyst, our goal is to predict or describe the churn rate i.e. the rate at\n",
    "which customer leave or cease the subscription to a service. Its value lies in the fact that engaging\n",
    "new customers is often more costly than retaining existing ones. For that reason subscription\n",
    "business-based companies usually have proactive policies towards customer retention.</p>\n",
    "<p>In this case study, we aim at building a machine learning model for customer churn prediction\n",
    "on data from a Telecom company. Each row on the dataset represents a subscribing telephone\n",
    "customer. Each column contains customer attributes such as phone number, call minutes used\n",
    "during different times of day, charges incurred for services, lifetime account duration, and whether\n",
    "or not the customer is still a customer. Data can be found in the file: churn.csv.</p>\n",
    "\n",
    "The complete set of attributes is the following:\n",
    "<ul>\n",
    "<li>State: categorical, for the 50 states and the District of Columbia</li>\n",
    "<li>Account length: integer-valued, how long an account has been active</li>\n",
    "<li>Area code: categorical</li>\n",
    "<li>Phone number: customer ID</li>\n",
    "<li>International Plan: binary feature, yes or no</li>\n",
    "<li>VoiceMail Plan: binary feature, yes or no</li>\n",
    "<li>Number of voice mail messages: integer-valued</li>\n",
    "<li>Total day minutes: continuous, minutes customer used service during the day</li>\n",
    "<li>Total day calls: integer-valued</li>\n",
    "<li>Total day charge: continuous</li>\n",
    "<li>Total evening minutes: continuous, minutes customer used service during the evening</li>\n",
    "<li>Total evening calls: integer-valued</li>\n",
    "<li>Total evening charge: continuous</li>\n",
    "<li>Total night minutes: continuous, minutes customer used service during the night</li>\n",
    "<li>Total night calls: integer-valued</li>\n",
    "<li>Total night charge: continuous</li>\n",
    "<li>Total international minutes: continuous, minutes customer used service to make international\n",
    "calls</li>\n",
    "<li>Total international calls: integer-valued</li>\n",
    "<li>Total international charge: continuous</li>\n",
    "<li>Number of calls to customer service: integer-valued</li>\n",
    "</ul>"
   ]
  },
  {
   "cell_type": "markdown",
   "metadata": {},
   "source": [
    "## IV. Experiments\n",
    "\n",
    "### Code Design\n",
    "All classifiers must be coded from scratch in python, no toolkits are allowed to be used\n",
    "except for numpy and CVX (http://www.cvxpy.org/). All classifiers have to be fully integrable\n",
    "in the scikit-learn (sklearn) ecosystem, i.e. inherit from BaseEstimator and implement the basic\n",
    "methods, fit, predict, score, ... You can check how to integrate your classifier in http://scikit-learn.org/stable/developers/contributing.html#coding-guidelines. We do not need to pass all unit\n",
    "testing but at least we would like to use several of the nice functions such as gridsearchCV, etc\n",
    "with your estimator."
   ]
  },
  {
   "cell_type": "markdown",
   "metadata": {},
   "source": [
    "<div class = \"alert alert-success\" style = \"border-radius:10px\">**WP 1**\n",
    "<ol>\n",
    "<li> Read the dataset ‘churn.csv‘ and split it into features and labels</li> \n",
    "<li> Convert data to floating point numbers </li>\n",
    "<li> Drop all not useful features </li>\n",
    "</ol>\n",
    "<div>"
   ]
  },
  {
   "cell_type": "markdown",
   "metadata": {},
   "source": [
    "<div class = \"alert alert-danger\" style=\"border-radius:10px\"> **HINT:** You may want to consider\n",
    "pandas library for cleaning purposes.\n",
    "</div>"
   ]
  },
  {
   "cell_type": "code",
   "execution_count": 6,
   "metadata": {
    "collapsed": true
   },
   "outputs": [],
   "source": [
    "#3: Principal Components Analysis?"
   ]
  },
  {
   "cell_type": "markdown",
   "metadata": {},
   "source": [
    "<div class = \"alert alert-success\" style = \"border-radius:10px\">**WP 2**\n",
    "<ol>\n",
    "<li> Try solving the problem using sklearn techniques.</li> \n",
    "</ol>\n",
    "<div>"
   ]
  },
  {
   "cell_type": "code",
   "execution_count": null,
   "metadata": {
    "collapsed": true
   },
   "outputs": [],
   "source": []
  },
  {
   "cell_type": "markdown",
   "metadata": {},
   "source": [
    "<div class = \"alert alert-success\" style = \"border-radius:10px\">**WP 3**\n",
    "<ol>\n",
    "<li> Implement your classifier.</li> \n",
    "</ol>\n",
    "<div>"
   ]
  },
  {
   "cell_type": "code",
   "execution_count": null,
   "metadata": {
    "collapsed": true
   },
   "outputs": [],
   "source": []
  },
  {
   "cell_type": "markdown",
   "metadata": {},
   "source": [
    "<div class = \"alert alert-success\" style = \"border-radius:10px\">**WP 4**\n",
    "<ol>\n",
    "<li> Test your classifier.</li> \n",
    "</ol>\n",
    "<div>"
   ]
  },
  {
   "cell_type": "code",
   "execution_count": null,
   "metadata": {
    "collapsed": true
   },
   "outputs": [],
   "source": []
  },
  {
   "cell_type": "markdown",
   "metadata": {},
   "source": [
    "<div class = \"alert alert-success\" style = \"border-radius:10px\">**WP 5**\n",
    "<ol>\n",
    "<li> Evaluate your code comparing the results with a couple of techniques from sklearn.</li> \n",
    "</ol>\n",
    "<div>"
   ]
  },
  {
   "cell_type": "code",
   "execution_count": null,
   "metadata": {
    "collapsed": true
   },
   "outputs": [],
   "source": []
  },
  {
   "cell_type": "markdown",
   "metadata": {},
   "source": [
    "The problem is an unbalanced problem and our goal is to miss as few as possible\n",
    "churn clients. For each predicted churn client the company will spend resources to try to\n",
    "keep him engaged.\n",
    "Consider that a given client yields a benefit of 100 euros."
   ]
  },
  {
   "cell_type": "markdown",
   "metadata": {},
   "source": [
    "<div class = \"alert alert-success\" style = \"border-radius:10px\">**WP 6**\n",
    "<ol>\n",
    "<li> Propose a solution for different costs (in euros) for regaining a client</li> \n",
    "<li> Look for the most profitable retention campaign (How much can be invest in\n",
    "retention?)</li> \n",
    "\n",
    "</ol>\n",
    "<div>"
   ]
  },
  {
   "cell_type": "code",
   "execution_count": null,
   "metadata": {
    "collapsed": true
   },
   "outputs": [],
   "source": []
  },
  {
   "cell_type": "markdown",
   "metadata": {},
   "source": [
    "<div class = \"alert alert-success\" style = \"border-radius:10px\">**Results**\n",
    "<ol>\n",
    "<li> Table comparing performances. This includes, for instance, error rate and standard deviation. </li> \n",
    "<li> Graphical presentation of the information in the previous table. </li> \n",
    "<li> Graphical representation of the benefit vs the cost of the retention campaign. </li>\n",
    "</ol>\n",
    "<div>"
   ]
  },
  {
   "cell_type": "code",
   "execution_count": null,
   "metadata": {
    "collapsed": true
   },
   "outputs": [],
   "source": []
  },
  {
   "cell_type": "markdown",
   "metadata": {},
   "source": [
    "## V. Conclusions and Future Work\n",
    "todo\n",
    "## VI. Bibliography\n",
    "todo"
   ]
  },
  {
   "cell_type": "code",
   "execution_count": null,
   "metadata": {
    "collapsed": true
   },
   "outputs": [],
   "source": []
  }
 ],
 "metadata": {
  "kernelspec": {
   "display_name": "Python [Root]",
   "language": "python",
   "name": "Python [Root]"
  },
  "language_info": {
   "codemirror_mode": {
    "name": "ipython",
    "version": 2
   },
   "file_extension": ".py",
   "mimetype": "text/x-python",
   "name": "python",
   "nbconvert_exporter": "python",
   "pygments_lexer": "ipython2",
   "version": "2.7.12"
  }
 },
 "nbformat": 4,
 "nbformat_minor": 0
}
