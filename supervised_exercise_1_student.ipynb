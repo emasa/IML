{
 "cells": [
  {
   "cell_type": "markdown",
   "metadata": {},
   "source": [
    "# A basic supervised exercise\n",
    "\n",
    "# 1. Goal of the exercise\n",
    "\n",
    "In this exercise you will practice the basic pipeline of the supervised learning task. Implement a simple regressor. And will try to solve several hinderances found in the process.\n",
    "\n",
    "# 2. Deliverables\n",
    "As you progress in this exercise, you will find several questions you are expected to answer them properly with adequate figures when required and deliver this notebook with all these evidences in due time. The notebook must include all necessary code to generate the evidences as well as the discussion of the answers\n",
    "\n"
   ]
  },
  {
   "cell_type": "markdown",
   "metadata": {},
   "source": [
    "<div class = \"alert alert-danger\" style=\"border-radius:10px\"> **IMPORTANT:** Write in the next cell the name of the people that answer this notebook\n",
    "</div>"
   ]
  },
  {
   "cell_type": "markdown",
   "metadata": {},
   "source": [
    "Felix Altenberger, Emanuel Sanches, Pablo Reynoso"
   ]
  },
  {
   "cell_type": "markdown",
   "metadata": {},
   "source": [
    "# 3. Our first regressor\n",
    "\n",
    "We are given the data in ’reg_data_set1.pkl’(univariate basic dataset) our goal is to predict the $y$ value. Our first model to try is linear regression as explained in ”A gentle introduction to supervised learning”.\n"
   ]
  },
  {
   "cell_type": "markdown",
   "metadata": {},
   "source": [
    "## A. Data set analysis\n",
    "Load the dataset and describe the basic properties of the data,"
   ]
  },
  {
   "cell_type": "markdown",
   "metadata": {},
   "source": [
    "<div class = \"alert alert-success\" style = \"border-radius:10px\"> **QUESTION BLOCK 1:** Draw a scatter plot showing the data $x$ in the set with their corresponding $y$ values.\n",
    "<p>\n",
    "**HINT:** Next cell reads the file and imports module `matplotlib`. This module allows you to plot lines, scatter plots, dots, etc. Check `plt.scatter` and `plt.plot` for solving this exercise.\n",
    "</div>"
   ]
  },
  {
   "cell_type": "code",
   "execution_count": 168,
   "metadata": {
    "collapsed": false
   },
   "outputs": [
    {
     "data": {
      "text/plain": [
       "<matplotlib.collections.PathCollection at 0x7f650b796f90>"
      ]
     },
     "execution_count": 168,
     "metadata": {},
     "output_type": "execute_result"
    },
    {
     "data": {
      "image/png": "[encoded data removed]",
      "text/plain": [
       "<matplotlib.figure.Figure at 0x7f650b6c6e10>"
      ]
     },
     "metadata": {},
     "output_type": "display_data"
    }
   ],
   "source": [
    "# Your code here\n",
    "f = open('reg_data_set1.pkl','r')\n",
    "import pickle as pickle\n",
    "x,y=pickle.load(f)\n",
    "f.close()\n",
    "%matplotlib inline\n",
    "import matplotlib.pyplot as plt\n",
    "plt.scatter(x,y)\n"
   ]
  },
  {
   "cell_type": "markdown",
   "metadata": {},
   "source": [
    "## B. Analytical solution for the linear regression method.\n",
    "In this part, you are expected to implement the analytical version of linear regression using a least mean squared error loss."
   ]
  },
  {
   "cell_type": "markdown",
   "metadata": {},
   "source": [
    "<div class = \"alert alert-success\" style = \"border-radius:10px\"> <b>QUESTION BLOCK 2:</b>\n",
    "<ol>\n",
    "<li>Which is the optimal value of the linear regression weights? </li>\n",
    "<li>Plot the data set and the line learned by the model. Does it looks like a good\n",
    "linear approximation?</li>\n",
    "</ol>\n",
    "<p>\n",
    "** HINT: ** The `numpy` module is your best friend here. Dot product can be called using `np.dot` function. If you need to concatenate data you may use `np.c_`, `np.concatenate`, or `np.vstack`/`np.hstack`.\n",
    "</div>"
   ]
  },
  {
   "cell_type": "code",
   "execution_count": 169,
   "metadata": {
    "collapsed": false
   },
   "outputs": [],
   "source": [
    "# Your code 1\n",
    "import numpy as np\n",
    "def ana_sol(x,y):\n",
    "    x_pinv = np.linalg.pinv(x)\n",
    "    w = np.dot(x_pinv, y)\n",
    "    return w\n",
    "mat1 = np.array([[1]]*len(x))\n",
    "x_til = np.concatenate((mat1, x), axis=1)\n",
    "w = ana_sol(x_til,y)"
   ]
  },
  {
   "cell_type": "markdown",
   "metadata": {},
   "source": [
    "1.: The optimal values of the weights are w0=1.04015457 and w1=1.02081691 "
   ]
  },
  {
   "cell_type": "code",
   "execution_count": 170,
   "metadata": {
    "collapsed": false
   },
   "outputs": [
    {
     "data": {
      "text/plain": [
       "[<matplotlib.lines.Line2D at 0x7f650b9dc390>]"
      ]
     },
     "execution_count": 170,
     "metadata": {},
     "output_type": "execute_result"
    },
    {
     "data": {
      "image/png": "[encoded data removed]",
      "text/plain": [
       "<matplotlib.figure.Figure at 0x7f650b7b2410>"
      ]
     },
     "metadata": {},
     "output_type": "display_data"
    }
   ],
   "source": [
    "assert w.shape==(2,1),'The shape of the weight vector must be (2,1)'\n",
    "\n",
    "%matplotlib inline\n",
    "import matplotlib.pyplot as plt\n",
    "plt.scatter(x,y)\n",
    "plt.hold('on')\n",
    "\n",
    "def f(x,w):\n",
    "    return w[0]+x*w[1]\n",
    "\n",
    "#x_draw = np.arange(1.0, 7.0, 0.02)\n",
    "plt.plot(x_draw,f(x_draw,w),'r')\n",
    "\n",
    "#the given code below also draws the model. We prefer using our own code though, since it is easier to understand and the outcome looks better\n",
    "#x_draw = np.linspace(0,8,100)\n",
    "#x_draw = np.c_[x_draw,np.ones((x_draw.shape[0],1))]\n",
    "#plt.plot(x_draw[:,0],np.dot(x_draw,w))"
   ]
  },
  {
   "cell_type": "markdown",
   "metadata": {
    "collapsed": false
   },
   "source": [
    "2.: The model approximates the smallest/highest values quite well and seems to go right through the middle of the big cluster, as it can be seen above.\n",
    "Therefore we believe it to be a pretty good linear approximation. "
   ]
  },
  {
   "cell_type": "markdown",
   "metadata": {},
   "source": [
    "## C. Linear regression and the descent method.\n",
    "In this part, you are expected to implement the basic gradient descent version for optimizing linear regression with fixed learning rate.\n",
    "<p>\n",
    "<div class = \"alert alert-success\" style = \"border-radius:10px\"> **QUESTION BLOCK 3:**\n",
    "<ol>\n",
    "<li>Which is the optimal value of the linear regression weights using the descent method?</li>\n",
    "<li>Which are the parameters of the descent method used to obtain the optimal value? i.e. learning rate value, number of iterations.</li>\n",
    "<li>Plot the convergence curve of the method (The value of the objective function with respect to the number of iterations).</li>\n",
    "<li>Zoom in the flat convergence part. Does it oscillate? Why?</li>\n",
    "<li>Change the learning rate to 0.1. Plot the convergence curve of the method.</li>\n",
    "</ol>\n",
    "</div>\n"
   ]
  },
  {
   "cell_type": "code",
   "execution_count": 171,
   "metadata": {
    "collapsed": false
   },
   "outputs": [
    {
     "data": {
      "image/png": "[encoded data removed]",
      "text/plain": [
       "<matplotlib.figure.Figure at 0x7f650b9a1310>"
      ]
     },
     "metadata": {},
     "output_type": "display_data"
    }
   ],
   "source": [
    "# Your code here\n",
    "#1 \n",
    "def grad_desc(x,y,w,t,tau):\n",
    "    N = len(x)\n",
    "    for i in range(tau):\n",
    "        gJ = [0,0] #Gradient of the cost function J\n",
    "        for i in range(N):\n",
    "            gJ_temp = w[0]+w[1]*x[i][0]-y[i][0]\n",
    "            gJ[0] += gJ_temp\n",
    "            gJ[1] += gJ_temp*x[i][0]\n",
    "        gJ = [gj/N for gj in gJ]\n",
    "        w[0],w[1] = w[0]-t*gJ[0], w[1]-t*gJ[1]\n",
    "    return w\n",
    "\n",
    "def obj_func(x,y,w):\n",
    "    value,N = 0,len(x)\n",
    "    for i in range(N):\n",
    "        value += (x[i][0]*w[1]+w[0]-y[i][0])**2\n",
    "    return value/N\n",
    "\n",
    "def conv_curve(x,y,w,t,tau_min,tau_max):\n",
    "    import numpy as np\n",
    "    import matplotlib.pyplot as plt\n",
    "    taus = range(tau_max-tau_min)\n",
    "    obj_func_values=[0]*len(taus)\n",
    "    w = grad_desc(x,y,w,t,tau_min)\n",
    "    for i in taus:\n",
    "        obj_func_values[i] = obj_func(x,y,grad_desc(x,y,w,t,1))\n",
    "    plt.plot(range(tau_min, tau_max),obj_func_values)    \n",
    "\n",
    "#run\n",
    "w,t,tau_min,tau_max = [10,10], 0.1, 1, 5059\n",
    "conv_curve(x,y,w,t,tau_min, tau_max)\n",
    "#grad_desc(x,y,w,t,tau_max)\n",
    "#print(w)\n",
    "\n"
   ]
  },
  {
   "cell_type": "markdown",
   "metadata": {},
   "source": [
    "1. The optimal wheights are w0=1.0401545677991499 and w1=1.0208169139494963, which is equal to the analytical solution.\n",
    "2. We obtained those values by performing 5059 iterations with a learning rate of 0.1 and an initial w of [10,10]. Performoing more than 5059 iterations does not change the weights anymore, since the gained accuracy does not affect the first 17 digits.\n",
    "3. The whole convergence curve can be seen above.\n",
    "4. The convergence part does not osziliate. The reason for this is that the gradient is getting smaller if we get closer to a local minimum and therefore the convergence of w is \"onesided\", i.e. the graph is falling monotonously.\n",
    "5. See 3.\n",
    "\n",
    "\n"
   ]
  },
  {
   "cell_type": "markdown",
   "metadata": {},
   "source": [
    "Modify the descent algorithm so that your descent direction is\n",
    "$$\\Delta x= − \\frac{\\nabla f(x)} {\\|\\nabla f (x)\\|_2}$$\n",
    "\n",
    "<p>\n",
    "<div class = \"alert alert-success\" style = \"border-radius:10px\"> **QUESTION BLOCK 4:**\n",
    "<ol>\n",
    "<li>Which is the optimal value of the linear regression weights using the modified descent method?</li>\n",
    "<li> Which are the parameters of the descent method used to obtain the optimal value? i.e. learning rate value, number of iterations.</li>\n",
    "<li> Plot the convergence curve of the method (The value of the objective function with respect to the number of iterations). </li>\n",
    "<li> Zoom in the flat convergence part. Does it oscillate? Why? </li>\n",
    "</ol>\n",
    "<p>\n",
    "**HINT:** The norm of a vector can be found invoking `np.linalg.norm`.\n",
    "\n",
    "</div>"
   ]
  },
  {
   "cell_type": "code",
   "execution_count": 172,
   "metadata": {
    "collapsed": false
   },
   "outputs": [
    {
     "name": "stdout",
     "output_type": "stream",
     "text": [
      "[1.0533533876527021, 1.0690433709463778]\n"
     ]
    },
    {
     "data": {
      "image/png": "[encoded data removed]",
      "text/plain": [
       "<matplotlib.figure.Figure at 0x7f650b992f90>"
      ]
     },
     "metadata": {},
     "output_type": "display_data"
    }
   ],
   "source": [
    "def grad_desc(x,y,w,t,tau):\n",
    "    import numpy as np\n",
    "    N = len(x)\n",
    "    for i in range(tau):\n",
    "        gJ = [0,0]\n",
    "        for i in range(N):\n",
    "            gJ_temp = w[0]+w[1]*x[i][0]-y[i][0]\n",
    "            gJ[0] += gJ_temp\n",
    "            gJ[1] += gJ_temp*x[i][0]\n",
    "        gJ = [gj/N for gj in gJ]\n",
    "        gJ_norm = np.linalg.norm(gJ)\n",
    "        gJ = [gj/gJ_norm for gj in gJ]\n",
    "        w[0],w[1] = w[0]-t*gJ[0], w[1]-t*gJ[1]\n",
    "    return w\n",
    "\n",
    "w,t,tau_min,tau_max = [10,10], 0.1, 1, 3608\n",
    "conv_curve(x,y,w,t,tau_min, tau_max)\n",
    "print w\n"
   ]
  },
  {
   "cell_type": "markdown",
   "metadata": {},
   "source": [
    "1. The optimal weights are in the following intervals w0:[1.0269557479455713, 1.0533533876527021] and w1:[0.97259045695259272, 1.0690433709463778]\n",
    "2. We obtained those values by performing 3605/3606 iterations with a learning rate of 0.1 and an initial w of [10,10]. Performing more iterations than that does not change the weights anymore (apart from the osziliation), since the gained accuracy does not affect the first 17 digits. Lowering the learning rate would reduce the osziliation and therefore give us smaller intervalls (=better approximation) for the optimal weights, but we decided to use 0.1 again, so that the effect of norming the gradient can be observed the best.\n",
    "3. The whole convergence curve can be seen above.\n",
    "4. The convergence part does osziliate. The reason for this is that norming the gradient prevents it from getting smaller if we get closer to a local minimum and therefore it will \"jump over\" the minimum at some point."
   ]
  },
  {
   "cell_type": "markdown",
   "metadata": {},
   "source": [
    "## D. A second model.\n",
    "\n",
    "Consider now a polynomial model of degree p for the univariate case, i.e. $f(x;w) = w_0 + w_1x+w_2x^2 +· · ·+w_px^p$. Observe that it can be expressed as a linear combination of transformed data points $z = \\{1,x,x^2,...,x^p\\}$,\n",
    "\n",
    "$$\n",
    "f(x;w) = \\sum_{i=0}^p w_i x^i = \\sum_{i=0}^p w_i z_i = {\\bf w}^T{\\bf z}\n",
    "$$\n",
    "\n",
    "<p>\n",
    "<div class = \"alert alert-success\" style = \"border-radius:10px\"> **QUESTION BLOCK 5:**\n",
    "<ol>\n",
    "<li>Transform the training set into the set with examples described by z considering p = 3. Apply, the analytic solution code (if properly coded it should work without modifications). Which is the optimal value of the weights?</li>\n",
    "<li> Plot the data set and the curve just found. Does it fit better the data? Why?</li>\n",
    "</ol>\n",
    "</div>\n"
   ]
  },
  {
   "cell_type": "code",
   "execution_count": 173,
   "metadata": {
    "collapsed": false,
    "scrolled": true
   },
   "outputs": [
    {
     "data": {
      "text/plain": [
       "[<matplotlib.lines.Line2D at 0x7f650b688310>]"
      ]
     },
     "execution_count": 173,
     "metadata": {},
     "output_type": "execute_result"
    },
    {
     "data": {
      "image/png": "[encoded data removed]",
      "text/plain": [
       "<matplotlib.figure.Figure at 0x7f650b9c0b90>"
      ]
     },
     "metadata": {},
     "output_type": "display_data"
    }
   ],
   "source": [
    "def calc_z(x,p):\n",
    "    import numpy as np\n",
    "    z_temp = [0]*(p+1)\n",
    "    for i in range(p+1):\n",
    "        z_temp[i]=np.array([v**i for v in x])\n",
    "    z = z_temp[0]\n",
    "    for i in range(1,p+1):\n",
    "        z = np.concatenate((z,z_temp[i]), axis=1)\n",
    "    return z\n",
    "\n",
    "def obj_fun(v,w,p):\n",
    "    fx = 0\n",
    "    for i in range(p+1):\n",
    "        fx+=w[i]*v**i\n",
    "    return fx\n",
    "\n",
    "p=3\n",
    "z = calc_z(x,p)\n",
    "w = ana_sol(z,y)\n",
    "\n",
    "%matplotlib inline\n",
    "import matplotlib.pyplot as plt\n",
    "plt.scatter(x,y)\n",
    "plt.hold('on')\n",
    "x_draw = np.arange(1.0, 6.0, 0.02)\n",
    "plt.plot(x_draw,obj_fun(x_draw,w,p),'b')"
   ]
  },
  {
   "cell_type": "markdown",
   "metadata": {},
   "source": [
    "1. The optimal values of the weights are w0=-2.72757079, w1=4.90043255, w2=-1.22723706 and w3=0.12035158. \n",
    "2. The plot can be seen above. The curve fits the data better than the linear model, because the underlying approximation is of order 3, instead of order 1. Therefore it can approximate the given data more closely."
   ]
  },
  {
   "cell_type": "markdown",
   "metadata": {},
   "source": [
    "## E. Evaluating a model.\n",
    "\n",
    "Data set `reg_data_set2.mat` is a small set for regression. In this exercise we just want to select the best model among the following $p = 1, 2, . . . , 6$. The best fit is given by the polynomial displaying smaller RMS (root mean square) value. RMS is defined as the squared loss for the data considered\n",
    "􏰋􏰊􏰊􏰈$$\n",
    "RMS = \\sqrt{\\frac{1}{N}\\sum_{i=0}^N (f(x_i;w)-y_i)^2}\n",
    "$$\n",
    "\n",
    "\n",
    "<p>\n",
    "<div class = \"alert alert-success\" style = \"border-radius:10px\"> **QUESTION BLOCK 6:**\n",
    "<ol>\n",
    "<li>Use the first half of the data set for training and the second half for validation.</li>\n",
    "<li> Optimize the models (you can use any of the methods implemented before) and\n",
    "plot the validation set and the 6 models plots.</li>\n",
    "<li> Plot the training set and the 6 models plots.</li>\n",
    "<li> Compute the RMS error on the training set and on the validation set. Plot both\n",
    "error curves and describe their behavior. </li>\n",
    "<li> Does the selected model agrees with the model that performs the best on the\n",
    "training set? Which one do you think is the optimal choice? Why? (You are not supposed to give an exhaustive answer to this question but your impressions and ideas. We will see the reasons why this effect happens shortly.)</li>\n",
    "</ol>\n",
    "</div>\n"
   ]
  },
  {
   "cell_type": "code",
   "execution_count": 174,
   "metadata": {
    "collapsed": false,
    "scrolled": true
   },
   "outputs": [
    {
     "data": {
      "image/png": "[encoded data removed]",
      "text/plain": [
       "<matplotlib.figure.Figure at 0x7f650b69de90>"
      ]
     },
     "metadata": {},
     "output_type": "display_data"
    }
   ],
   "source": [
    "def calc6_z_w(x,y):\n",
    "    z,w=[0]*6,[0]*6\n",
    "    for p in range(6):\n",
    "        z[p] = calc_z(x,p+1)\n",
    "        w[p] = ana_sol(z[p],y)\n",
    "    return z,w\n",
    "\n",
    "def plot6(x,y,w):\n",
    "    %matplotlib inline\n",
    "    import matplotlib.pyplot as plt\n",
    "    plt.scatter(x,y)\n",
    "    for i in range(6):\n",
    "        if i < 1:\n",
    "            col = 'b'\n",
    "        elif i < 4:\n",
    "            col = 'g'\n",
    "        else:\n",
    "            col = 'r'\n",
    "        plt.hold('on')\n",
    "        x_draw = np.arange(-4.0, 14.0, 0.02)\n",
    "        plt.plot(x_draw,obj_fun(x_draw,w[i],i+1),col)\n",
    "        \n",
    "def rms(x,y,w,p):\n",
    "    import math\n",
    "    value,N = 0,len(x)\n",
    "    for i in range(N):\n",
    "        value += (obj_fun(x[i],w,p)-y[i])**2\n",
    "    return math.sqrt(value/N)\n",
    "\n",
    "def plot_rms6(x,w,y):\n",
    "    %matplotlib inline\n",
    "    import matplotlib.pyplot as plt\n",
    "    x_draw,y_draw = range(1,7),[0]*6\n",
    "    for p in x_draw:\n",
    "        y_draw[p-1] = rms(x,y,w[p-1],p)\n",
    "    plt.plot(x_draw,y_draw,'b')\n",
    "    \n",
    "        \n",
    "f = open('reg_data_set2.pkl','r')\n",
    "import pickle as pickle\n",
    "x,y=pickle.load(f)\n",
    "f.close()        \n",
    "#1.\n",
    "xs, ys = len(x)/2,len(y)/2\n",
    "x_tr, x_val, y_tr, y_val = x[:xs],x[xs:],y[:ys],y[ys:]    \n",
    "z,w = calc6_z_w(x_tr,y_tr)\n",
    "#2.\n",
    "plot6(x_val,y_val,w)\n",
    "#3.\n",
    "#plot6(x_tr,y_tr,w)\n",
    "#4.\n",
    "#plot_rms6(x_tr,w,y_tr)\n",
    "#plot_rms6(x_val,w,y_val)\n"
   ]
  },
  {
   "cell_type": "markdown",
   "metadata": {
    "collapsed": true
   },
   "source": [
    "2 and 3: The plot of the models with the validation set can be seen above. The blue curve represents order 1, the green ones orders 2, 3 and 4 and the red ones orders 5 and 6. The colors represent the following: green=good approximation, blue=underfitting, red=overfitting"
   ]
  },
  {
   "cell_type": "markdown",
   "metadata": {
    "collapsed": true
   },
   "source": [
    "4 and 5: The model that does best on the training set according to the RMS error is (unsurprisingly) p=6. The model that does best on the validation set however is p=4. The optimal choice would therefore be p=4, because it can approximate new values the best (at least according to the validation set). The reason for why p=6 performs worse than p=4 on new data is called overfitting, which means that p=6 tries to match the training set more closely than the actual underlying function, which worsens predictions for new values."
   ]
  }
 ],
 "metadata": {
  "kernelspec": {
   "display_name": "Python [Root]",
   "language": "python",
   "name": "Python [Root]"
  },
  "language_info": {
   "codemirror_mode": {
    "name": "ipython",
    "version": 2
   },
   "file_extension": ".py",
   "mimetype": "text/x-python",
   "name": "python",
   "nbconvert_exporter": "python",
   "pygments_lexer": "ipython2",
   "version": "2.7.12"
  }
 },
 "nbformat": 4,
 "nbformat_minor": 0
}
